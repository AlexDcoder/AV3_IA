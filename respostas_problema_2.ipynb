{
 "cells": [
  {
   "cell_type": "markdown",
   "metadata": {},
   "source": [
    "# Importando Bibliotecas"
   ]
  },
  {
   "cell_type": "code",
   "execution_count": 2,
   "metadata": {},
   "outputs": [],
   "source": [
    "import numpy as np\n",
    "from extract_data import MatrixData, Montecarlo\n",
    "from models.ps import ModelPS\n",
    "from models.ada import ModelADALINE\n",
    "from models.mlp import ModelMLP"
   ]
  },
  {
   "cell_type": "markdown",
   "metadata": {},
   "source": [
    "### Extraindo informações da pasta de imagens"
   ]
  },
  {
   "cell_type": "code",
   "execution_count": 13,
   "metadata": {},
   "outputs": [],
   "source": [
    "data = MatrixData('RecFac', 20, 10)"
   ]
  },
  {
   "cell_type": "code",
   "execution_count": 14,
   "metadata": {},
   "outputs": [
    {
     "data": {
      "text/plain": [
       "(100, 640)"
      ]
     },
     "metadata": {},
     "output_type": "display_data"
    },
    {
     "data": {
      "text/plain": [
       "(20, 640)"
      ]
     },
     "metadata": {},
     "output_type": "display_data"
    }
   ],
   "source": [
    "p, N = data.X.shape\n",
    "display(data.X.shape)\n",
    "display(data.Y.shape)"
   ]
  },
  {
   "cell_type": "code",
   "execution_count": null,
   "metadata": {},
   "outputs": [
    {
     "name": "stdout",
     "output_type": "stream",
     "text": [
      "[-1. -1. -1.  1. -1. -1. -1. -1. -1. -1. -1. -1. -1. -1. -1. -1. -1. -1.\n",
      " -1. -1.]\n"
     ]
    }
   ],
   "source": [
    "model_1 = ModelPS(.001, 1e3, 20)\n",
    "random_index = np.random.permutation(N)\n",
    "X = data.X [:, random_index]\n",
    "Y = data.Y [:, random_index]\n",
    "print(Y[:, 0])\n",
    "X_train = X[:, :int(N*.8)]\n",
    "Y_train = Y[:, :int(N*.8)]\n",
    "\n",
    "X_test = X[:, int(N*.8):]\n",
    "Y_test = Y[:, int(N*.8):]\n",
    "w_estim = model_1.training(X_train, Y_train)\n",
    "model_1.testing(X_test, Y_test, w_estim)\n"
   ]
  }
 ],
 "metadata": {
  "kernelspec": {
   "display_name": "venv",
   "language": "python",
   "name": "python3"
  },
  "language_info": {
   "codemirror_mode": {
    "name": "ipython",
    "version": 3
   },
   "file_extension": ".py",
   "mimetype": "text/x-python",
   "name": "python",
   "nbconvert_exporter": "python",
   "pygments_lexer": "ipython3",
   "version": "3.12.3"
  }
 },
 "nbformat": 4,
 "nbformat_minor": 2
}
