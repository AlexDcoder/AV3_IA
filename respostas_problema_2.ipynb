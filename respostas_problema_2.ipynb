{
 "cells": [
  {
   "cell_type": "markdown",
   "metadata": {},
   "source": [
    "# Importando Bibliotecas"
   ]
  },
  {
   "cell_type": "code",
   "execution_count": 1,
   "metadata": {},
   "outputs": [],
   "source": [
    "from extract_data import MatrixData, Montecarlo, Graph"
   ]
  },
  {
   "cell_type": "markdown",
   "metadata": {},
   "source": [
    "### Extraindo informações da pasta de imagens"
   ]
  },
  {
   "cell_type": "code",
   "execution_count": 2,
   "metadata": {},
   "outputs": [],
   "source": [
    "data_10 = MatrixData('RecFac', 20, 10)\n",
    "data_20 = MatrixData('RecFac', 20, 20)\n",
    "data_30 = MatrixData('RecFac', 20, 30)\n",
    "data_40 = MatrixData('RecFac', 20, 40)\n",
    "data_50 = MatrixData('RecFac', 20, 50)"
   ]
  },
  {
   "cell_type": "markdown",
   "metadata": {},
   "source": [
    "### Realizando validação dos modelos"
   ]
  },
  {
   "cell_type": "markdown",
   "metadata": {},
   "source": [
    "#### Para imagens de dimensão 10 x 10"
   ]
  },
  {
   "cell_type": "code",
   "execution_count": null,
   "metadata": {},
   "outputs": [
    {
     "ename": "IndexError",
     "evalue": "index 20 is out of bounds for axis 0 with size 20",
     "output_type": "error",
     "traceback": [
      "\u001b[1;31m---------------------------------------------------------------------------\u001b[0m",
      "\u001b[1;31mIndexError\u001b[0m                                Traceback (most recent call last)",
      "Cell \u001b[1;32mIn[3], line 2\u001b[0m\n\u001b[0;32m      1\u001b[0m validation_10 \u001b[38;5;241m=\u001b[39m Montecarlo(data_10, \u001b[38;5;241m.8\u001b[39m)\n\u001b[1;32m----> 2\u001b[0m table, best_ps, worst_ps, best_ada, worst_ada \u001b[38;5;241m=\u001b[39m \u001b[43mvalidation_10\u001b[49m\u001b[38;5;241;43m.\u001b[39;49m\u001b[43mexecute\u001b[49m\u001b[43m(\u001b[49m\n\u001b[0;32m      3\u001b[0m \u001b[43m    \u001b[49m\u001b[38;5;241;43m50\u001b[39;49m\u001b[43m,\u001b[49m\u001b[43m \u001b[49m\u001b[38;5;66;43;03m# Número de Rodadas\u001b[39;49;00m\n\u001b[0;32m      4\u001b[0m \u001b[43m    \u001b[49m\u001b[38;5;241;43m.01\u001b[39;49m\u001b[43m,\u001b[49m\u001b[43m \u001b[49m\u001b[38;5;241;43m10\u001b[39;49m\u001b[38;5;241;43m*\u001b[39;49m\u001b[38;5;241;43m*\u001b[39;49m\u001b[38;5;241;43m5\u001b[39;49m\u001b[43m,\u001b[49m\u001b[43m \u001b[49m\u001b[38;5;66;43;03m# Hiperparâmetros do Perceptron Simples\u001b[39;49;00m\n\u001b[0;32m      5\u001b[0m \u001b[43m    \u001b[49m\u001b[38;5;241;43m.01\u001b[39;49m\u001b[43m,\u001b[49m\u001b[43m \u001b[49m\u001b[38;5;241;43m10\u001b[39;49m\u001b[38;5;241;43m*\u001b[39;49m\u001b[38;5;241;43m*\u001b[39;49m\u001b[38;5;241;43m5\u001b[39;49m\u001b[43m,\u001b[49m\u001b[43m \u001b[49m\u001b[38;5;241;43m.01\u001b[39;49m\u001b[43m,\u001b[49m\u001b[43m \u001b[49m\u001b[38;5;66;43;03m# Hiperparâmetros do ADALine\u001b[39;49;00m\n\u001b[0;32m      6\u001b[0m \u001b[43m    \u001b[49m\u001b[38;5;241;43m.01\u001b[39;49m\u001b[43m,\u001b[49m\u001b[43m \u001b[49m\u001b[38;5;241;43m10\u001b[39;49m\u001b[38;5;241;43m*\u001b[39;49m\u001b[38;5;241;43m*\u001b[39;49m\u001b[38;5;241;43m5\u001b[39;49m\u001b[43m,\u001b[49m\u001b[43m \u001b[49m\u001b[38;5;241;43m.01\u001b[39;49m\u001b[43m,\u001b[49m\u001b[43m \u001b[49m\u001b[38;5;241;43m20\u001b[39;49m\u001b[43m,\u001b[49m\u001b[43m \u001b[49m\u001b[38;5;241;43m20\u001b[39;49m\u001b[43m,\u001b[49m\u001b[43m \u001b[49m\u001b[43m[\u001b[49m\u001b[43m]\u001b[49m\u001b[43m \u001b[49m\u001b[38;5;66;43;03m# Hiperparâmetros do Percéptron de Múltiplas Camadas\u001b[39;49;00m\n\u001b[0;32m      7\u001b[0m \u001b[43m)\u001b[49m\n",
      "File \u001b[1;32mc:\\Users\\Alex\\OneDrive\\Backup Unifor\\SEMESTRE 6\\IA\\neural_network\\extract_data.py:112\u001b[0m, in \u001b[0;36mMontecarlo.execute\u001b[1;34m(self, R, *hyperparameters)\u001b[0m\n\u001b[0;32m    109\u001b[0m Y_train, Y_test \u001b[38;5;241m=\u001b[39m Y[:, :split_point], Y[:, split_point:]\n\u001b[0;32m    111\u001b[0m \u001b[38;5;66;03m# Training and testing\u001b[39;00m\n\u001b[1;32m--> 112\u001b[0m w_ps \u001b[38;5;241m=\u001b[39m \u001b[43mps\u001b[49m\u001b[38;5;241;43m.\u001b[39;49m\u001b[43mtraining\u001b[49m\u001b[43m(\u001b[49m\u001b[43mX_train\u001b[49m\u001b[43m,\u001b[49m\u001b[43m \u001b[49m\u001b[43mY_train\u001b[49m\u001b[43m)\u001b[49m\n\u001b[0;32m    113\u001b[0m w_ada \u001b[38;5;241m=\u001b[39m ada\u001b[38;5;241m.\u001b[39mtraining(X_train, Y_train)\n\u001b[0;32m    114\u001b[0m \u001b[38;5;66;03m# w_mlp = mlp.training(X_train, Y_train)\u001b[39;00m\n",
      "File \u001b[1;32mc:\\Users\\Alex\\OneDrive\\Backup Unifor\\SEMESTRE 6\\IA\\neural_network\\models\\ps.py:97\u001b[0m, in \u001b[0;36mModelPS.training\u001b[1;34m(self, X_train, Y_train)\u001b[0m\n\u001b[0;32m     94\u001b[0m     erro \u001b[38;5;241m=\u001b[39m \u001b[38;5;28;01mTrue\u001b[39;00m \u001b[38;5;28;01mif\u001b[39;00m np\u001b[38;5;241m.\u001b[39many(y_t \u001b[38;5;241m!=\u001b[39m d_t) \u001b[38;5;28;01melse\u001b[39;00m \u001b[38;5;28;01mFalse\u001b[39;00m\n\u001b[0;32m     96\u001b[0m \u001b[38;5;66;03m# Armazena histórico de erros da época\u001b[39;00m\n\u001b[1;32m---> 97\u001b[0m \u001b[38;5;28;43mself\u001b[39;49m\u001b[38;5;241;43m.\u001b[39;49m\u001b[43mlearning_hist\u001b[49m\u001b[43m[\u001b[49m\u001b[43mepoch\u001b[49m\u001b[43m]\u001b[49m \u001b[38;5;241m=\u001b[39m epoch_errors\n\u001b[0;32m     99\u001b[0m \u001b[38;5;66;03m# Incrementa contador de épocas\u001b[39;00m\n\u001b[0;32m    100\u001b[0m epoch \u001b[38;5;241m+\u001b[39m\u001b[38;5;241m=\u001b[39m \u001b[38;5;241m1\u001b[39m\n",
      "\u001b[1;31mIndexError\u001b[0m: index 20 is out of bounds for axis 0 with size 20"
     ]
    }
   ],
   "source": [
    "validation_10 = Montecarlo(data_10, .8)\n",
    "display(validation_10.execute(\n",
    "    50, # Número de Rodadas\n",
    "    .1, 10**5, # Hiperparâmetros do Perceptron Simples\n",
    "    .01, 10**5, .01, # Hiperparâmetros do ADALine\n",
    "    .001, 10**5, .01, 20, 20, [] # Hiperparâmetros do Percéptron de Múltiplas Camadas\n",
    "))"
   ]
  },
  {
   "cell_type": "markdown",
   "metadata": {},
   "source": [
    "#### Para imagens de dimensão 20 x 20"
   ]
  },
  {
   "cell_type": "code",
   "execution_count": null,
   "metadata": {},
   "outputs": [
    {
     "data": {
      "text/html": [
       "<div>\n",
       "<style scoped>\n",
       "    .dataframe tbody tr th:only-of-type {\n",
       "        vertical-align: middle;\n",
       "    }\n",
       "\n",
       "    .dataframe tbody tr th {\n",
       "        vertical-align: top;\n",
       "    }\n",
       "\n",
       "    .dataframe thead th {\n",
       "        text-align: right;\n",
       "    }\n",
       "</style>\n",
       "<table border=\"1\" class=\"dataframe\">\n",
       "  <thead>\n",
       "    <tr style=\"text-align: right;\">\n",
       "      <th></th>\n",
       "      <th>Modelos</th>\n",
       "      <th>Média</th>\n",
       "      <th>Desvio-Padrão</th>\n",
       "      <th>Maior Valor</th>\n",
       "      <th>Menor Valor</th>\n",
       "    </tr>\n",
       "  </thead>\n",
       "  <tbody>\n",
       "    <tr>\n",
       "      <th>0</th>\n",
       "      <td>Perceptron Simples</td>\n",
       "      <td>0.538628</td>\n",
       "      <td>0.185014</td>\n",
       "      <td>0.890625</td>\n",
       "      <td>0.203125</td>\n",
       "    </tr>\n",
       "    <tr>\n",
       "      <th>1</th>\n",
       "      <td>ADAptive LINear Element</td>\n",
       "      <td>0.841875</td>\n",
       "      <td>0.127212</td>\n",
       "      <td>0.984375</td>\n",
       "      <td>0.460938</td>\n",
       "    </tr>\n",
       "    <tr>\n",
       "      <th>2</th>\n",
       "      <td>Perceptron de Múltiplas Camadas</td>\n",
       "      <td>0.000000</td>\n",
       "      <td>0.000000</td>\n",
       "      <td>0.000000</td>\n",
       "      <td>0.000000</td>\n",
       "    </tr>\n",
       "  </tbody>\n",
       "</table>\n",
       "</div>"
      ],
      "text/plain": [
       "                           Modelos     Média  Desvio-Padrão  Maior Valor  \\\n",
       "0               Perceptron Simples  0.538628       0.185014     0.890625   \n",
       "1          ADAptive LINear Element  0.841875       0.127212     0.984375   \n",
       "2  Perceptron de Múltiplas Camadas  0.000000       0.000000     0.000000   \n",
       "\n",
       "   Menor Valor  \n",
       "0     0.203125  \n",
       "1     0.460938  \n",
       "2     0.000000  "
      ]
     },
     "metadata": {},
     "output_type": "display_data"
    }
   ],
   "source": [
    "validation_20 = Montecarlo(data_20, .8)\n",
    "display(validation_20.execute(\n",
    "    50, # Número de Rodadas\n",
    "    .01, 10**5, # Hiperparâmetros do Perceptron Simples\n",
    "    .01, 10**5, .01, # Hiperparâmetros do ADALine\n",
    "    .01, 10**5, .01, 20, 20, [] # Hiperparâmetros do Percéptron de Múltiplas Camadas\n",
    "))"
   ]
  },
  {
   "cell_type": "markdown",
   "metadata": {},
   "source": [
    "#### Para imagens de dimensão 30 x 30"
   ]
  },
  {
   "cell_type": "code",
   "execution_count": 3,
   "metadata": {},
   "outputs": [
    {
     "name": "stderr",
     "output_type": "stream",
     "text": [
      "c:\\Users\\Alex\\OneDrive\\Backup Unifor\\SEMESTRE 6\\IA\\neural_network\\models\\ada.py:62: RuntimeWarning: overflow encountered in square\n",
      "  error = np.sum((y_t - prediction)**2)\n",
      "c:\\Users\\Alex\\OneDrive\\Backup Unifor\\SEMESTRE 6\\IA\\neural_network\\models\\ada.py:103: RuntimeWarning: overflow encountered in matmul\n",
      "  u_t = w.T@x_t\n",
      "c:\\Users\\Alex\\OneDrive\\Backup Unifor\\SEMESTRE 6\\IA\\neural_network\\models\\ada.py:103: RuntimeWarning: invalid value encountered in matmul\n",
      "  u_t = w.T@x_t\n",
      "c:\\Users\\Alex\\OneDrive\\Backup Unifor\\SEMESTRE 6\\IA\\neural_network\\models\\ada.py:106: RuntimeWarning: invalid value encountered in add\n",
      "  w = w + self.lr*(x_t@e_t.T)\n"
     ]
    },
    {
     "ename": "KeyError",
     "evalue": "np.float64(0.90625)",
     "output_type": "error",
     "traceback": [
      "\u001b[1;31m---------------------------------------------------------------------------\u001b[0m",
      "\u001b[1;31mKeyError\u001b[0m                                  Traceback (most recent call last)",
      "Cell \u001b[1;32mIn[3], line 2\u001b[0m\n\u001b[0;32m      1\u001b[0m validation_30 \u001b[38;5;241m=\u001b[39m Montecarlo(data_30, \u001b[38;5;241m.8\u001b[39m)\n\u001b[1;32m----> 2\u001b[0m table, best_ps, worst_ps, best_ada, worst_ada \u001b[38;5;241m=\u001b[39m \u001b[43mvalidation_30\u001b[49m\u001b[38;5;241;43m.\u001b[39;49m\u001b[43mexecute\u001b[49m\u001b[43m(\u001b[49m\n\u001b[0;32m      3\u001b[0m \u001b[43m    \u001b[49m\u001b[38;5;241;43m50\u001b[39;49m\u001b[43m,\u001b[49m\u001b[43m \u001b[49m\u001b[38;5;66;43;03m# Número de Rodadas\u001b[39;49;00m\n\u001b[0;32m      4\u001b[0m \u001b[43m    \u001b[49m\u001b[38;5;241;43m.01\u001b[39;49m\u001b[43m,\u001b[49m\u001b[43m \u001b[49m\u001b[38;5;241;43m10\u001b[39;49m\u001b[38;5;241;43m*\u001b[39;49m\u001b[38;5;241;43m*\u001b[39;49m\u001b[38;5;241;43m5\u001b[39;49m\u001b[43m,\u001b[49m\u001b[43m \u001b[49m\u001b[38;5;66;43;03m# Hiperparâmetros do Perceptron Simples\u001b[39;49;00m\n\u001b[0;32m      5\u001b[0m \u001b[43m    \u001b[49m\u001b[38;5;241;43m.01\u001b[39;49m\u001b[43m,\u001b[49m\u001b[43m \u001b[49m\u001b[38;5;241;43m10\u001b[39;49m\u001b[38;5;241;43m*\u001b[39;49m\u001b[38;5;241;43m*\u001b[39;49m\u001b[38;5;241;43m5\u001b[39;49m\u001b[43m,\u001b[49m\u001b[43m \u001b[49m\u001b[38;5;241;43m.01\u001b[39;49m\u001b[43m,\u001b[49m\u001b[43m \u001b[49m\u001b[38;5;66;43;03m# Hiperparâmetros do ADALine\u001b[39;49;00m\n\u001b[0;32m      6\u001b[0m \u001b[43m    \u001b[49m\u001b[38;5;241;43m.01\u001b[39;49m\u001b[43m,\u001b[49m\u001b[43m \u001b[49m\u001b[38;5;241;43m10\u001b[39;49m\u001b[38;5;241;43m*\u001b[39;49m\u001b[38;5;241;43m*\u001b[39;49m\u001b[38;5;241;43m5\u001b[39;49m\u001b[43m,\u001b[49m\u001b[43m \u001b[49m\u001b[38;5;241;43m.01\u001b[39;49m\u001b[43m,\u001b[49m\u001b[43m \u001b[49m\u001b[38;5;241;43m20\u001b[39;49m\u001b[43m,\u001b[49m\u001b[43m \u001b[49m\u001b[38;5;241;43m20\u001b[39;49m\u001b[43m,\u001b[49m\u001b[43m \u001b[49m\u001b[43m[\u001b[49m\u001b[43m]\u001b[49m\u001b[43m \u001b[49m\u001b[38;5;66;43;03m# Hiperparâmetros do Percéptron de Múltiplas Camadas\u001b[39;49;00m\n\u001b[0;32m      7\u001b[0m \u001b[43m)\u001b[49m\n",
      "File \u001b[1;32mc:\\Users\\Alex\\OneDrive\\Backup Unifor\\SEMESTRE 6\\IA\\neural_network\\extract_data.py:152\u001b[0m, in \u001b[0;36mMontecarlo.execute\u001b[1;34m(self, R, *hyperparameters)\u001b[0m\n\u001b[0;32m    133\u001b[0m worst \u001b[38;5;241m=\u001b[39m np\u001b[38;5;241m.\u001b[39mmin(\u001b[38;5;28mlist\u001b[39m(metrics_ps\u001b[38;5;241m.\u001b[39mkeys()))\n\u001b[0;32m    135\u001b[0m table \u001b[38;5;241m=\u001b[39m pd\u001b[38;5;241m.\u001b[39mDataFrame({\n\u001b[0;32m    136\u001b[0m     \u001b[38;5;124m\"\u001b[39m\u001b[38;5;124mModelos\u001b[39m\u001b[38;5;124m\"\u001b[39m: [\u001b[38;5;124m\"\u001b[39m\u001b[38;5;124mPerceptron Simples\u001b[39m\u001b[38;5;124m\"\u001b[39m, \u001b[38;5;124m\"\u001b[39m\u001b[38;5;124mADAptive LINear Element\u001b[39m\u001b[38;5;124m\"\u001b[39m,\n\u001b[0;32m    137\u001b[0m                 \u001b[38;5;124m\"\u001b[39m\u001b[38;5;124mPerceptron de Múltiplas Camadas\u001b[39m\u001b[38;5;124m\"\u001b[39m],\n\u001b[1;32m   (...)\u001b[0m\n\u001b[0;32m    149\u001b[0m         np\u001b[38;5;241m.\u001b[39mmin(\u001b[38;5;28mlist\u001b[39m(metrics_ada\u001b[38;5;241m.\u001b[39mkeys())), \u001b[38;5;241m0\u001b[39m],\n\u001b[0;32m    150\u001b[0m }),\n\u001b[1;32m--> 152\u001b[0m \u001b[38;5;28;01mreturn\u001b[39;00m table, metrics_ps[best], metrics_ps[worst], \u001b[43mmetrics_ada\u001b[49m\u001b[43m[\u001b[49m\u001b[43mbest\u001b[49m\u001b[43m]\u001b[49m, \\\n\u001b[0;32m    153\u001b[0m     metrics_ada[worst]\n",
      "\u001b[1;31mKeyError\u001b[0m: np.float64(0.90625)"
     ]
    }
   ],
   "source": [
    "validation_30 = Montecarlo(data_30, .8)\n",
    "table, best_ps, worst_ps, best_ada, worst_ada = validation_30.execute(\n",
    "    50, # Número de Rodadas\n",
    "    .01, 10**5, # Hiperparâmetros do Perceptron Simples\n",
    "    .01, 10**5, .01, # Hiperparâmetros do ADALine\n",
    "    .01, 10**5, .01, 20, 20, [] # Hiperparâmetros do Percéptron de Múltiplas Camadas\n",
    ")"
   ]
  },
  {
   "cell_type": "markdown",
   "metadata": {},
   "source": [
    "#### Para imagens de dimensão 40 x 40"
   ]
  },
  {
   "cell_type": "code",
   "execution_count": null,
   "metadata": {},
   "outputs": [
    {
     "data": {
      "text/html": [
       "<div>\n",
       "<style scoped>\n",
       "    .dataframe tbody tr th:only-of-type {\n",
       "        vertical-align: middle;\n",
       "    }\n",
       "\n",
       "    .dataframe tbody tr th {\n",
       "        vertical-align: top;\n",
       "    }\n",
       "\n",
       "    .dataframe thead th {\n",
       "        text-align: right;\n",
       "    }\n",
       "</style>\n",
       "<table border=\"1\" class=\"dataframe\">\n",
       "  <thead>\n",
       "    <tr style=\"text-align: right;\">\n",
       "      <th></th>\n",
       "      <th>Modelos</th>\n",
       "      <th>Média</th>\n",
       "      <th>Desvio-Padrão</th>\n",
       "      <th>Maior Valor</th>\n",
       "      <th>Menor Valor</th>\n",
       "    </tr>\n",
       "  </thead>\n",
       "  <tbody>\n",
       "    <tr>\n",
       "      <th>0</th>\n",
       "      <td>Perceptron Simples</td>\n",
       "      <td>0.817969</td>\n",
       "      <td>0.064191</td>\n",
       "      <td>0.921875</td>\n",
       "      <td>0.703125</td>\n",
       "    </tr>\n",
       "    <tr>\n",
       "      <th>1</th>\n",
       "      <td>ADAptive LINear Element</td>\n",
       "      <td>0.970703</td>\n",
       "      <td>0.021306</td>\n",
       "      <td>1.000000</td>\n",
       "      <td>0.929688</td>\n",
       "    </tr>\n",
       "    <tr>\n",
       "      <th>2</th>\n",
       "      <td>Perceptron de Múltiplas Camadas</td>\n",
       "      <td>0.000000</td>\n",
       "      <td>0.000000</td>\n",
       "      <td>0.000000</td>\n",
       "      <td>0.000000</td>\n",
       "    </tr>\n",
       "  </tbody>\n",
       "</table>\n",
       "</div>"
      ],
      "text/plain": [
       "                           Modelos     Média  Desvio-Padrão  Maior Valor  \\\n",
       "0               Perceptron Simples  0.817969       0.064191     0.921875   \n",
       "1          ADAptive LINear Element  0.970703       0.021306     1.000000   \n",
       "2  Perceptron de Múltiplas Camadas  0.000000       0.000000     0.000000   \n",
       "\n",
       "   Menor Valor  \n",
       "0     0.703125  \n",
       "1     0.929688  \n",
       "2     0.000000  "
      ]
     },
     "metadata": {},
     "output_type": "display_data"
    }
   ],
   "source": [
    "validation_40 = Montecarlo(data_40, .8)\n",
    "display(validation_10.execute(\n",
    "    50, # Número de Rodadas\n",
    "    .1, 10**5, # Hiperparâmetros do Perceptron Simples\n",
    "    .01, 10**3, .01, # Hiperparâmetros do ADALine\n",
    "    .001, 10**3, .001, 20, 20, [] # Hiperparâmetros do Percéptron de Múltiplas Camadas\n",
    "))"
   ]
  },
  {
   "cell_type": "markdown",
   "metadata": {},
   "source": [
    "#### Para imagens de dimensão 50 x 50"
   ]
  },
  {
   "cell_type": "code",
   "execution_count": null,
   "metadata": {},
   "outputs": [
    {
     "data": {
      "text/html": [
       "<div>\n",
       "<style scoped>\n",
       "    .dataframe tbody tr th:only-of-type {\n",
       "        vertical-align: middle;\n",
       "    }\n",
       "\n",
       "    .dataframe tbody tr th {\n",
       "        vertical-align: top;\n",
       "    }\n",
       "\n",
       "    .dataframe thead th {\n",
       "        text-align: right;\n",
       "    }\n",
       "</style>\n",
       "<table border=\"1\" class=\"dataframe\">\n",
       "  <thead>\n",
       "    <tr style=\"text-align: right;\">\n",
       "      <th></th>\n",
       "      <th>Modelos</th>\n",
       "      <th>Média</th>\n",
       "      <th>Desvio-Padrão</th>\n",
       "      <th>Maior Valor</th>\n",
       "      <th>Menor Valor</th>\n",
       "    </tr>\n",
       "  </thead>\n",
       "  <tbody>\n",
       "    <tr>\n",
       "      <th>0</th>\n",
       "      <td>Perceptron Simples</td>\n",
       "      <td>0.818182</td>\n",
       "      <td>0.059553</td>\n",
       "      <td>0.914062</td>\n",
       "      <td>0.695312</td>\n",
       "    </tr>\n",
       "    <tr>\n",
       "      <th>1</th>\n",
       "      <td>ADAptive LINear Element</td>\n",
       "      <td>0.964844</td>\n",
       "      <td>0.022440</td>\n",
       "      <td>1.000000</td>\n",
       "      <td>0.929688</td>\n",
       "    </tr>\n",
       "    <tr>\n",
       "      <th>2</th>\n",
       "      <td>Perceptron de Múltiplas Camadas</td>\n",
       "      <td>0.000000</td>\n",
       "      <td>0.000000</td>\n",
       "      <td>0.000000</td>\n",
       "      <td>0.000000</td>\n",
       "    </tr>\n",
       "  </tbody>\n",
       "</table>\n",
       "</div>"
      ],
      "text/plain": [
       "                           Modelos     Média  Desvio-Padrão  Maior Valor  \\\n",
       "0               Perceptron Simples  0.818182       0.059553     0.914062   \n",
       "1          ADAptive LINear Element  0.964844       0.022440     1.000000   \n",
       "2  Perceptron de Múltiplas Camadas  0.000000       0.000000     0.000000   \n",
       "\n",
       "   Menor Valor  \n",
       "0     0.695312  \n",
       "1     0.929688  \n",
       "2     0.000000  "
      ]
     },
     "metadata": {},
     "output_type": "display_data"
    }
   ],
   "source": [
    "validation_50 = Montecarlo(data_50, .8)\n",
    "display(validation_10.execute(\n",
    "    50, # Número de Rodadas\n",
    "    .1, 10**5, # Hiperparâmetros do Perceptron Simples\n",
    "    .01, 10**3, .01, # Hiperparâmetros do ADALine\n",
    "    .001, 10**3, .001, 20, 20, [] # Hiperparâmetros do Percéptron de Múltiplas Camadas\n",
    "))"
   ]
  },
  {
   "cell_type": "code",
   "execution_count": null,
   "metadata": {},
   "outputs": [],
   "source": []
  }
 ],
 "metadata": {
  "kernelspec": {
   "display_name": "venv",
   "language": "python",
   "name": "python3"
  },
  "language_info": {
   "codemirror_mode": {
    "name": "ipython",
    "version": 3
   },
   "file_extension": ".py",
   "mimetype": "text/x-python",
   "name": "python",
   "nbconvert_exporter": "python",
   "pygments_lexer": "ipython3",
   "version": "3.12.3"
  }
 },
 "nbformat": 4,
 "nbformat_minor": 2
}
