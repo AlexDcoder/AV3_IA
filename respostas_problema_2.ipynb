{
 "cells": [
  {
   "cell_type": "markdown",
   "metadata": {},
   "source": [
    "# Importando Bibliotecas"
   ]
  },
  {
   "cell_type": "code",
   "execution_count": 1,
   "metadata": {},
   "outputs": [],
   "source": [
    "from extract_data import MatrixData, Montecarlo"
   ]
  },
  {
   "cell_type": "markdown",
   "metadata": {},
   "source": [
    "### Extraindo informações da pasta de imagens"
   ]
  },
  {
   "cell_type": "code",
   "execution_count": 2,
   "metadata": {},
   "outputs": [],
   "source": [
    "data_10 = MatrixData('RecFac', 20, 10)\n",
    "data_20 = MatrixData('RecFac', 20, 20)\n",
    "data_30 = MatrixData('RecFac', 20, 30)\n",
    "data_40 = MatrixData('RecFac', 20, 40)\n",
    "data_50 = MatrixData('RecFac', 20, 50)"
   ]
  },
  {
   "cell_type": "markdown",
   "metadata": {},
   "source": [
    "### Realizando validação dos modelos"
   ]
  },
  {
   "cell_type": "markdown",
   "metadata": {},
   "source": [
    "#### Para imagens de dimensão 10 x 10"
   ]
  },
  {
   "cell_type": "code",
   "execution_count": 3,
   "metadata": {},
   "outputs": [
    {
     "data": {
      "text/html": [
       "<div>\n",
       "<style scoped>\n",
       "    .dataframe tbody tr th:only-of-type {\n",
       "        vertical-align: middle;\n",
       "    }\n",
       "\n",
       "    .dataframe tbody tr th {\n",
       "        vertical-align: top;\n",
       "    }\n",
       "\n",
       "    .dataframe thead th {\n",
       "        text-align: right;\n",
       "    }\n",
       "</style>\n",
       "<table border=\"1\" class=\"dataframe\">\n",
       "  <thead>\n",
       "    <tr style=\"text-align: right;\">\n",
       "      <th></th>\n",
       "      <th>Modelos</th>\n",
       "      <th>Média</th>\n",
       "      <th>Desvio-Padrão</th>\n",
       "      <th>Maior Valor</th>\n",
       "      <th>Menor Valor</th>\n",
       "    </tr>\n",
       "  </thead>\n",
       "  <tbody>\n",
       "    <tr>\n",
       "      <th>0</th>\n",
       "      <td>Perceptron Simples</td>\n",
       "      <td>0.49375</td>\n",
       "      <td>0.206639</td>\n",
       "      <td>0.820312</td>\n",
       "      <td>0.09375</td>\n",
       "    </tr>\n",
       "    <tr>\n",
       "      <th>1</th>\n",
       "      <td>ADAptive LINear Element</td>\n",
       "      <td>0.96875</td>\n",
       "      <td>0.020172</td>\n",
       "      <td>1.000000</td>\n",
       "      <td>0.93750</td>\n",
       "    </tr>\n",
       "    <tr>\n",
       "      <th>2</th>\n",
       "      <td>Perceptron de Múltiplas Camadas</td>\n",
       "      <td>0.00000</td>\n",
       "      <td>0.000000</td>\n",
       "      <td>0.000000</td>\n",
       "      <td>0.00000</td>\n",
       "    </tr>\n",
       "  </tbody>\n",
       "</table>\n",
       "</div>"
      ],
      "text/plain": [
       "                           Modelos    Média  Desvio-Padrão  Maior Valor  \\\n",
       "0               Perceptron Simples  0.49375       0.206639     0.820312   \n",
       "1          ADAptive LINear Element  0.96875       0.020172     1.000000   \n",
       "2  Perceptron de Múltiplas Camadas  0.00000       0.000000     0.000000   \n",
       "\n",
       "   Menor Valor  \n",
       "0      0.09375  \n",
       "1      0.93750  \n",
       "2      0.00000  "
      ]
     },
     "metadata": {},
     "output_type": "display_data"
    }
   ],
   "source": [
    "validation_10 = Montecarlo(data_10, .8)\n",
    "display(validation_10.execute(\n",
    "    50, # Número de Rodadas\n",
    "    .01, 10**5, # Hiperparâmetros do Perceptron Simples\n",
    "    .01, 10**5, .01, # Hiperparâmetros do ADALine\n",
    "    .001, 10**5, .01, 20, 20, [] # Hiperparâmetros do Percéptron de Múltiplas Camadas\n",
    "))"
   ]
  },
  {
   "cell_type": "markdown",
   "metadata": {},
   "source": [
    "#### Para imagens de dimensão 20 x 20"
   ]
  },
  {
   "cell_type": "code",
   "execution_count": 4,
   "metadata": {},
   "outputs": [
    {
     "data": {
      "text/html": [
       "<div>\n",
       "<style scoped>\n",
       "    .dataframe tbody tr th:only-of-type {\n",
       "        vertical-align: middle;\n",
       "    }\n",
       "\n",
       "    .dataframe tbody tr th {\n",
       "        vertical-align: top;\n",
       "    }\n",
       "\n",
       "    .dataframe thead th {\n",
       "        text-align: right;\n",
       "    }\n",
       "</style>\n",
       "<table border=\"1\" class=\"dataframe\">\n",
       "  <thead>\n",
       "    <tr style=\"text-align: right;\">\n",
       "      <th></th>\n",
       "      <th>Modelos</th>\n",
       "      <th>Média</th>\n",
       "      <th>Desvio-Padrão</th>\n",
       "      <th>Maior Valor</th>\n",
       "      <th>Menor Valor</th>\n",
       "    </tr>\n",
       "  </thead>\n",
       "  <tbody>\n",
       "    <tr>\n",
       "      <th>0</th>\n",
       "      <td>Perceptron Simples</td>\n",
       "      <td>0.538628</td>\n",
       "      <td>0.185014</td>\n",
       "      <td>0.890625</td>\n",
       "      <td>0.203125</td>\n",
       "    </tr>\n",
       "    <tr>\n",
       "      <th>1</th>\n",
       "      <td>ADAptive LINear Element</td>\n",
       "      <td>0.841875</td>\n",
       "      <td>0.127212</td>\n",
       "      <td>0.984375</td>\n",
       "      <td>0.460938</td>\n",
       "    </tr>\n",
       "    <tr>\n",
       "      <th>2</th>\n",
       "      <td>Perceptron de Múltiplas Camadas</td>\n",
       "      <td>0.000000</td>\n",
       "      <td>0.000000</td>\n",
       "      <td>0.000000</td>\n",
       "      <td>0.000000</td>\n",
       "    </tr>\n",
       "  </tbody>\n",
       "</table>\n",
       "</div>"
      ],
      "text/plain": [
       "                           Modelos     Média  Desvio-Padrão  Maior Valor  \\\n",
       "0               Perceptron Simples  0.538628       0.185014     0.890625   \n",
       "1          ADAptive LINear Element  0.841875       0.127212     0.984375   \n",
       "2  Perceptron de Múltiplas Camadas  0.000000       0.000000     0.000000   \n",
       "\n",
       "   Menor Valor  \n",
       "0     0.203125  \n",
       "1     0.460938  \n",
       "2     0.000000  "
      ]
     },
     "metadata": {},
     "output_type": "display_data"
    }
   ],
   "source": [
    "validation_20 = Montecarlo(data_20, .8)\n",
    "display(validation_20.execute(\n",
    "    50, # Número de Rodadas\n",
    "    .01, 10**5, # Hiperparâmetros do Perceptron Simples\n",
    "    .01, 10**5, .01, # Hiperparâmetros do ADALine\n",
    "    .01, 10**5, .01, 20, 20, [] # Hiperparâmetros do Percéptron de Múltiplas Camadas\n",
    "))"
   ]
  },
  {
   "cell_type": "markdown",
   "metadata": {},
   "source": [
    "#### Para imagens de dimensão 30 x 30"
   ]
  },
  {
   "cell_type": "code",
   "execution_count": 5,
   "metadata": {},
   "outputs": [
    {
     "name": "stderr",
     "output_type": "stream",
     "text": [
      "c:\\Users\\Alex\\OneDrive\\Backup Unifor\\SEMESTRE 6\\IA\\neural_network\\models\\ada.py:62: RuntimeWarning: overflow encountered in square\n",
      "  error = np.sum((y_t - prediction)**2)\n",
      "c:\\Users\\Alex\\OneDrive\\Backup Unifor\\SEMESTRE 6\\IA\\neural_network\\models\\ada.py:103: RuntimeWarning: overflow encountered in matmul\n",
      "  u_t = w.T@x_t\n",
      "c:\\Users\\Alex\\OneDrive\\Backup Unifor\\SEMESTRE 6\\IA\\neural_network\\models\\ada.py:103: RuntimeWarning: invalid value encountered in matmul\n",
      "  u_t = w.T@x_t\n",
      "c:\\Users\\Alex\\OneDrive\\Backup Unifor\\SEMESTRE 6\\IA\\neural_network\\models\\ada.py:106: RuntimeWarning: invalid value encountered in add\n",
      "  w = w + self.lr*(x_t@e_t.T)\n"
     ]
    },
    {
     "data": {
      "text/html": [
       "<div>\n",
       "<style scoped>\n",
       "    .dataframe tbody tr th:only-of-type {\n",
       "        vertical-align: middle;\n",
       "    }\n",
       "\n",
       "    .dataframe tbody tr th {\n",
       "        vertical-align: top;\n",
       "    }\n",
       "\n",
       "    .dataframe thead th {\n",
       "        text-align: right;\n",
       "    }\n",
       "</style>\n",
       "<table border=\"1\" class=\"dataframe\">\n",
       "  <thead>\n",
       "    <tr style=\"text-align: right;\">\n",
       "      <th></th>\n",
       "      <th>Modelos</th>\n",
       "      <th>Média</th>\n",
       "      <th>Desvio-Padrão</th>\n",
       "      <th>Maior Valor</th>\n",
       "      <th>Menor Valor</th>\n",
       "    </tr>\n",
       "  </thead>\n",
       "  <tbody>\n",
       "    <tr>\n",
       "      <th>0</th>\n",
       "      <td>Perceptron Simples</td>\n",
       "      <td>0.586328</td>\n",
       "      <td>0.207531</td>\n",
       "      <td>0.921875</td>\n",
       "      <td>0.148438</td>\n",
       "    </tr>\n",
       "    <tr>\n",
       "      <th>1</th>\n",
       "      <td>ADAptive LINear Element</td>\n",
       "      <td>0.059375</td>\n",
       "      <td>0.023748</td>\n",
       "      <td>0.101562</td>\n",
       "      <td>0.023438</td>\n",
       "    </tr>\n",
       "    <tr>\n",
       "      <th>2</th>\n",
       "      <td>Perceptron de Múltiplas Camadas</td>\n",
       "      <td>0.000000</td>\n",
       "      <td>0.000000</td>\n",
       "      <td>0.000000</td>\n",
       "      <td>0.000000</td>\n",
       "    </tr>\n",
       "  </tbody>\n",
       "</table>\n",
       "</div>"
      ],
      "text/plain": [
       "                           Modelos     Média  Desvio-Padrão  Maior Valor  \\\n",
       "0               Perceptron Simples  0.586328       0.207531     0.921875   \n",
       "1          ADAptive LINear Element  0.059375       0.023748     0.101562   \n",
       "2  Perceptron de Múltiplas Camadas  0.000000       0.000000     0.000000   \n",
       "\n",
       "   Menor Valor  \n",
       "0     0.148438  \n",
       "1     0.023438  \n",
       "2     0.000000  "
      ]
     },
     "metadata": {},
     "output_type": "display_data"
    }
   ],
   "source": [
    "validation_30 = Montecarlo(data_30, .8)\n",
    "display(validation_30.execute(\n",
    "    50, # Número de Rodadas\n",
    "    .01, 10**5, # Hiperparâmetros do Perceptron Simples\n",
    "    .01, 10**5, .01, # Hiperparâmetros do ADALine\n",
    "    .01, 10**5, .01, 20, 20, [] # Hiperparâmetros do Percéptron de Múltiplas Camadas\n",
    "))"
   ]
  },
  {
   "cell_type": "markdown",
   "metadata": {},
   "source": [
    "#### Para imagens de dimensão 40 x 40"
   ]
  },
  {
   "cell_type": "code",
   "execution_count": 6,
   "metadata": {},
   "outputs": [
    {
     "data": {
      "text/html": [
       "<div>\n",
       "<style scoped>\n",
       "    .dataframe tbody tr th:only-of-type {\n",
       "        vertical-align: middle;\n",
       "    }\n",
       "\n",
       "    .dataframe tbody tr th {\n",
       "        vertical-align: top;\n",
       "    }\n",
       "\n",
       "    .dataframe thead th {\n",
       "        text-align: right;\n",
       "    }\n",
       "</style>\n",
       "<table border=\"1\" class=\"dataframe\">\n",
       "  <thead>\n",
       "    <tr style=\"text-align: right;\">\n",
       "      <th></th>\n",
       "      <th>Modelos</th>\n",
       "      <th>Média</th>\n",
       "      <th>Desvio-Padrão</th>\n",
       "      <th>Maior Valor</th>\n",
       "      <th>Menor Valor</th>\n",
       "    </tr>\n",
       "  </thead>\n",
       "  <tbody>\n",
       "    <tr>\n",
       "      <th>0</th>\n",
       "      <td>Perceptron Simples</td>\n",
       "      <td>0.817969</td>\n",
       "      <td>0.064191</td>\n",
       "      <td>0.921875</td>\n",
       "      <td>0.703125</td>\n",
       "    </tr>\n",
       "    <tr>\n",
       "      <th>1</th>\n",
       "      <td>ADAptive LINear Element</td>\n",
       "      <td>0.970703</td>\n",
       "      <td>0.021306</td>\n",
       "      <td>1.000000</td>\n",
       "      <td>0.929688</td>\n",
       "    </tr>\n",
       "    <tr>\n",
       "      <th>2</th>\n",
       "      <td>Perceptron de Múltiplas Camadas</td>\n",
       "      <td>0.000000</td>\n",
       "      <td>0.000000</td>\n",
       "      <td>0.000000</td>\n",
       "      <td>0.000000</td>\n",
       "    </tr>\n",
       "  </tbody>\n",
       "</table>\n",
       "</div>"
      ],
      "text/plain": [
       "                           Modelos     Média  Desvio-Padrão  Maior Valor  \\\n",
       "0               Perceptron Simples  0.817969       0.064191     0.921875   \n",
       "1          ADAptive LINear Element  0.970703       0.021306     1.000000   \n",
       "2  Perceptron de Múltiplas Camadas  0.000000       0.000000     0.000000   \n",
       "\n",
       "   Menor Valor  \n",
       "0     0.703125  \n",
       "1     0.929688  \n",
       "2     0.000000  "
      ]
     },
     "metadata": {},
     "output_type": "display_data"
    }
   ],
   "source": [
    "validation_40 = Montecarlo(data_40, .8)\n",
    "display(validation_10.execute(\n",
    "    50, # Número de Rodadas\n",
    "    .1, 10**5, # Hiperparâmetros do Perceptron Simples\n",
    "    .01, 10**3, .01, # Hiperparâmetros do ADALine\n",
    "    .001, 10**3, .001, 20, 20, [] # Hiperparâmetros do Percéptron de Múltiplas Camadas\n",
    "))"
   ]
  },
  {
   "cell_type": "markdown",
   "metadata": {},
   "source": [
    "#### Para imagens de dimensão 50 x 50"
   ]
  },
  {
   "cell_type": "code",
   "execution_count": 8,
   "metadata": {},
   "outputs": [
    {
     "data": {
      "text/html": [
       "<div>\n",
       "<style scoped>\n",
       "    .dataframe tbody tr th:only-of-type {\n",
       "        vertical-align: middle;\n",
       "    }\n",
       "\n",
       "    .dataframe tbody tr th {\n",
       "        vertical-align: top;\n",
       "    }\n",
       "\n",
       "    .dataframe thead th {\n",
       "        text-align: right;\n",
       "    }\n",
       "</style>\n",
       "<table border=\"1\" class=\"dataframe\">\n",
       "  <thead>\n",
       "    <tr style=\"text-align: right;\">\n",
       "      <th></th>\n",
       "      <th>Modelos</th>\n",
       "      <th>Média</th>\n",
       "      <th>Desvio-Padrão</th>\n",
       "      <th>Maior Valor</th>\n",
       "      <th>Menor Valor</th>\n",
       "    </tr>\n",
       "  </thead>\n",
       "  <tbody>\n",
       "    <tr>\n",
       "      <th>0</th>\n",
       "      <td>Perceptron Simples</td>\n",
       "      <td>0.818182</td>\n",
       "      <td>0.059553</td>\n",
       "      <td>0.914062</td>\n",
       "      <td>0.695312</td>\n",
       "    </tr>\n",
       "    <tr>\n",
       "      <th>1</th>\n",
       "      <td>ADAptive LINear Element</td>\n",
       "      <td>0.964844</td>\n",
       "      <td>0.022440</td>\n",
       "      <td>1.000000</td>\n",
       "      <td>0.929688</td>\n",
       "    </tr>\n",
       "    <tr>\n",
       "      <th>2</th>\n",
       "      <td>Perceptron de Múltiplas Camadas</td>\n",
       "      <td>0.000000</td>\n",
       "      <td>0.000000</td>\n",
       "      <td>0.000000</td>\n",
       "      <td>0.000000</td>\n",
       "    </tr>\n",
       "  </tbody>\n",
       "</table>\n",
       "</div>"
      ],
      "text/plain": [
       "                           Modelos     Média  Desvio-Padrão  Maior Valor  \\\n",
       "0               Perceptron Simples  0.818182       0.059553     0.914062   \n",
       "1          ADAptive LINear Element  0.964844       0.022440     1.000000   \n",
       "2  Perceptron de Múltiplas Camadas  0.000000       0.000000     0.000000   \n",
       "\n",
       "   Menor Valor  \n",
       "0     0.695312  \n",
       "1     0.929688  \n",
       "2     0.000000  "
      ]
     },
     "metadata": {},
     "output_type": "display_data"
    }
   ],
   "source": [
    "validation_50 = Montecarlo(data_50, .8)\n",
    "display(validation_10.execute(\n",
    "    50, # Número de Rodadas\n",
    "    .1, 10**5, # Hiperparâmetros do Perceptron Simples\n",
    "    .01, 10**3, .01, # Hiperparâmetros do ADALine\n",
    "    .001, 10**3, .001, 20, 20, [] # Hiperparâmetros do Percéptron de Múltiplas Camadas\n",
    "))"
   ]
  }
 ],
 "metadata": {
  "kernelspec": {
   "display_name": "venv",
   "language": "python",
   "name": "python3"
  },
  "language_info": {
   "codemirror_mode": {
    "name": "ipython",
    "version": 3
   },
   "file_extension": ".py",
   "mimetype": "text/x-python",
   "name": "python",
   "nbconvert_exporter": "python",
   "pygments_lexer": "ipython3",
   "version": "3.12.3"
  }
 },
 "nbformat": 4,
 "nbformat_minor": 2
}
